{
 "cells": [
  {
   "cell_type": "code",
   "execution_count": 31,
   "metadata": {},
   "outputs": [],
   "source": [
    "import streamlit as st\n",
    "from selenium import webdriver\n",
    "from bs4 import BeautifulSoup\n",
    "from langchain.text_splitter import RecursiveCharacterTextSplitter\n",
    "from sentence_transformers import SentenceTransformer\n",
    "import openai\n",
    "import faiss\n",
    "import numpy as np\n",
    "import re\n",
    "import os \n",
    "import matplotlib.pyplot as plt\n",
    "import groq\n",
    "from dotenv import load_dotenv\n",
    "import os"
   ]
  },
  {
   "cell_type": "code",
   "execution_count": 4,
   "metadata": {},
   "outputs": [
    {
     "name": "stdout",
     "output_type": "stream",
     "text": [
      "Requirement already satisfied: dotenv in c:\\sumit_documents\\projects\\airport_analyzer\\.venv\\lib\\site-packages (0.9.9)\n",
      "Requirement already satisfied: python-dotenv in c:\\sumit_documents\\projects\\airport_analyzer\\.venv\\lib\\site-packages (from dotenv) (1.0.1)\n"
     ]
    }
   ],
   "source": [
    "!pip install dotenv"
   ]
  },
  {
   "cell_type": "code",
   "execution_count": 32,
   "metadata": {},
   "outputs": [
    {
     "name": "stdout",
     "output_type": "stream",
     "text": [
      "GROQ API Key: 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\n"
     ]
    }
   ],
   "source": [
    "# Load the .env file\n",
    "load_dotenv()\n",
    "\n",
    "# Retrieve the API key\n",
    "groq_api_key = os.getenv(\"GROQ_API_KEY\")\n",
    "\n",
    "print(\"GROQ API Key:\", groq_api_key)  # Ensure it's loaded correctly\n"
   ]
  },
  {
   "cell_type": "code",
   "execution_count": 40,
   "metadata": {},
   "outputs": [],
   "source": [
    "def scrape(base_url, num_pages):\n",
    "    if os.path.exists('reviews.txt'):\n",
    "        os.remove('reviews.txt')\n",
    "    driver = webdriver.Chrome()\n",
    "    for page_num in range(1, num_pages + 1):\n",
    "        url = f'{base_url}/page/{page_num}' if page_num > 1 else base_url\n",
    "        driver.get(url)\n",
    "        soup = BeautifulSoup(driver.page_source, 'html.parser')\n",
    "        reviews = soup.find_all('div', class_='body')\n",
    "        with open('reviews.txt', 'a', encoding='utf-8') as file:\n",
    "            for i, review in enumerate(reviews):\n",
    "                text = review.text.strip()\n",
    "                file.write(f'Review {i + 1 + (page_num - 1) * len(reviews)}:\\n{text}\\n{\"-\" * 80}\\n')\n",
    "    driver.quit()"
   ]
  },
  {
   "cell_type": "code",
   "execution_count": 41,
   "metadata": {},
   "outputs": [],
   "source": [
    "scrape('https://www.airlinequality.com/airline-reviews/qatar-airways',5)"
   ]
  },
  {
   "cell_type": "code",
   "execution_count": 42,
   "metadata": {},
   "outputs": [],
   "source": [
    "# Function to load text from 'reviews.txt'\n",
    "\n",
    "def load_text(file_path='reviews.txt', encoding='utf-8'):\n",
    "    try:\n",
    "        with open(file_path, encoding=encoding) as f:\n",
    "            text = f.read()\n",
    "        return text\n",
    "    except UnicodeDecodeError as e:\n",
    "        st.error(f\"Error decoding file {file_path} with encoding {encoding}: {e}\")\n",
    " \n",
    "# Function to perform text splitting\n",
    "\n",
    "def split_text(data):\n",
    "    # Split the content into individual reviews based on the delimiter \"Review\"\n",
    "    docs = data.split(\"Review\")[1:]\n",
    "    docs = [review.strip() for review in docs]\n",
    "    #docs = reviews.split_text(data)\n",
    "    return docs"
   ]
  },
  {
   "cell_type": "code",
   "execution_count": 43,
   "metadata": {},
   "outputs": [],
   "source": [
    "reviews_txt = load_text()"
   ]
  },
  {
   "cell_type": "code",
   "execution_count": 44,
   "metadata": {},
   "outputs": [],
   "source": [
    "chunks = split_text(reviews_txt)"
   ]
  },
  {
   "cell_type": "code",
   "execution_count": 38,
   "metadata": {},
   "outputs": [],
   "source": [
    "def initialize_sentence_transformers_embeddings(docs):\n",
    "    gist_embedding = SentenceTransformer(\"avsolatorio/GIST-Embedding-v0\")\n",
    "    _list = gist_embedding.encode(docs, convert_to_tensor=True)\n",
    "    return gist_embedding, _list"
   ]
  },
  {
   "cell_type": "code",
   "execution_count": 45,
   "metadata": {},
   "outputs": [
    {
     "name": "stdout",
     "output_type": "stream",
     "text": [
      "Gist Embeddings: SentenceTransformer(\n",
      "  (0): Transformer({'max_seq_length': 512, 'do_lower_case': True}) with Transformer model: BertModel \n",
      "  (1): Pooling({'word_embedding_dimension': 768, 'pooling_mode_cls_token': True, 'pooling_mode_mean_tokens': False, 'pooling_mode_max_tokens': False, 'pooling_mode_mean_sqrt_len_tokens': False, 'pooling_mode_weightedmean_tokens': False, 'pooling_mode_lasttoken': False, 'include_prompt': True})\n",
      "  (2): Normalize()\n",
      ")\n",
      "Gist Embeddings List: tensor([[-0.0304,  0.0079,  0.0063,  ..., -0.0112,  0.0419,  0.0144],\n",
      "        [-0.0319, -0.0235,  0.0234,  ...,  0.0230,  0.0711, -0.0226],\n",
      "        [-0.0465,  0.0159, -0.0112,  ..., -0.0144,  0.0871,  0.0075],\n",
      "        ...,\n",
      "        [-0.0272, -0.0122,  0.0030,  ..., -0.0102,  0.0969,  0.0170],\n",
      "        [-0.0387,  0.0217,  0.0237,  ...,  0.0015,  0.0303, -0.0106],\n",
      "        [-0.0190, -0.0167,  0.0073,  ...,  0.0457,  0.0463, -0.0187]])\n"
     ]
    }
   ],
   "source": [
    "gist_embedding, gist_embeddings_list = initialize_sentence_transformers_embeddings(chunks)\n",
    "print(f'Gist Embeddings: {gist_embedding}')\n",
    "print(f'Gist Embeddings List: {gist_embeddings_list}')\n"
   ]
  },
  {
   "cell_type": "code",
   "execution_count": 46,
   "metadata": {},
   "outputs": [],
   "source": [
    "question = 'What is that Michael Schade said about the experience with Qatar Airways?'"
   ]
  },
  {
   "cell_type": "code",
   "execution_count": 47,
   "metadata": {},
   "outputs": [],
   "source": [
    "def convert_question_to_embeddings(question, gist_embedding):\n",
    "    search_vec = gist_embedding.encode(question, convert_to_tensor=True)  # Now, gist_embedding is a model\n",
    "    svec = np.array(search_vec).reshape(1, -1)\n",
    "    svec = np.ascontiguousarray(svec, dtype='float32')\n",
    "    return svec\n"
   ]
  },
  {
   "cell_type": "code",
   "execution_count": 48,
   "metadata": {},
   "outputs": [
    {
     "name": "stderr",
     "output_type": "stream",
     "text": [
      "C:\\Users\\sumit\\AppData\\Local\\Temp\\ipykernel_47220\\4189410285.py:3: DeprecationWarning: __array__ implementation doesn't accept a copy keyword, so passing copy=False failed. __array__ must implement 'dtype' and 'copy' keyword arguments. To learn more, see the migration guide https://numpy.org/devdocs/numpy_2_0_migration_guide.html#adapting-to-changes-in-the-copy-keyword\n",
      "  svec = np.array(search_vec).reshape(1, -1)\n"
     ]
    }
   ],
   "source": [
    "svec = convert_question_to_embeddings(question, gist_embedding)"
   ]
  },
  {
   "cell_type": "code",
   "execution_count": 49,
   "metadata": {},
   "outputs": [],
   "source": [
    "dim = gist_embeddings_list.shape[1]\n",
    "index = faiss.IndexFlatL2(dim)\n",
    "index.add(gist_embeddings_list)\n",
    "distance, I = index.search(svec, k=10)"
   ]
  },
  {
   "cell_type": "code",
   "execution_count": 50,
   "metadata": {},
   "outputs": [
    {
     "data": {
      "text/plain": [
       "10"
      ]
     },
     "execution_count": 50,
     "metadata": {},
     "output_type": "execute_result"
    }
   ],
   "source": [
    "lst = [chunks[i] for i in I[0]]\n",
    "len(lst)"
   ]
  },
  {
   "cell_type": "code",
   "execution_count": null,
   "metadata": {},
   "outputs": [],
   "source": [
    "def batch_retrieval_qa(prompt, documents, model=\"llama3-8b-8192\", temperature=0.7, max_tokens=1000):\n",
    "    client = groq.Client(api_key=\"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\")  # Replace with your actual API key\n",
    "    batch_size = 3  # Process 3 documents at a time\n",
    "    results = []\n",
    "\n",
    "    for i in range(0, len(documents), batch_size):\n",
    "        batch_docs = documents[i:i + batch_size]\n",
    "        input_text = f\"{prompt}\\n\\nDocuments:\\n\" + \"\\n\".join(batch_docs)\n",
    "\n",
    "        response = client.chat.completions.create(\n",
    "    model=model,\n",
    "    messages=[\n",
    "        {\n",
    "            \"role\": \"user\",\n",
    "            \"content\": (\n",
    "                \"As a business analyst, analyze the customer feedback provided in the structured review format below. \"\n",
    "                \"Each review contains key sections, including reviewer's name, location, visit date, trip verification status, \"\n",
    "                \"a descriptive review, experience at the airport (departure only), type of traveler, and recommendation status. \"\n",
    "                \"Ratings for various aspects (e.g., queuing times, cleanliness, seating) are not scraped, so exclude them from analysis.\\n\\n\"\n",
    "                \n",
    "                \"Key Analysis Instructions:\"\n",
    "                \"- Identify patterns and insights from narrative feedback and categorical data.\"\n",
    "                \"- Identify the specific customer names and what specific issues they had\"\n",
    "                \"- Focus on factual interpretation without assumptions.\"\n",
    "                \"- Use a structured response format: summary paragraph followed by key insights in bullet points.\"\n",
    "                \"- Highlight specific examples from reviews to support insights.\"\n",
    "                \"- Provide actionable recommendations based on trends and customer experience observations.\"\n",
    "                \n",
    "                \"Ensure your response is concise, clear, and grounded in the review data. Avoid inferences not supported by the content.\"\n",
    "            )\n",
    "        },\n",
    "        {\"role\": \"user\", \"content\": input_text}\n",
    "    ],\n",
    "    temperature=temperature,\n",
    "    max_tokens=max_tokens\n",
    ")\n",
    "\n",
    "        results.append(response.choices[0].message.content.strip())\n",
    "\n",
    "    return results  # Returns a list of responses for each batch\n"
   ]
  },
  {
   "cell_type": "code",
   "execution_count": 25,
   "metadata": {},
   "outputs": [],
   "source": [
    "import groq\n",
    "\n",
    "def batch_retrieval_qa(prompt, documents, model=\"llama3-8b-8192\", temperature=0.7, max_tokens=1000):\n",
    "    \"\"\"\n",
    "    Function to process customer feedback in batches and retrieve structured analysis responses.\n",
    "\n",
    "    Parameters:\n",
    "    - prompt (str): Instruction for analysis.\n",
    "    - documents (list): List of customer feedback documents.\n",
    "    - model (str): The model used for analysis (default: \"llama3-8b-8192\").\n",
    "    - temperature (float): Controls randomness in responses (default: 0.7).\n",
    "    - max_tokens (int): Maximum token length for response (default: 1000).\n",
    "\n",
    "    Returns:\n",
    "    - List of structured analysis responses for each batch of documents.\n",
    "    \"\"\"\n",
    "\n",
    "    # Initialize the client with the API key\n",
    "    client = groq.Client(api_key=groq_api_key)  # Replace with actual API key\n",
    "    \n",
    "    batch_size = 3  # Process 3 documents at a time\n",
    "    results = []\n",
    "\n",
    "    # Iterate over documents in batches\n",
    "    for i in range(0, len(documents), batch_size):\n",
    "        batch_docs = documents[i:i + batch_size]\n",
    "        input_text = f\"{prompt}\\n\\nDocuments:\\n\" + \"\\n\".join(batch_docs)\n",
    "\n",
    "        # Send request to the AI model\n",
    "        response = client.chat.completions.create(\n",
    "            model=model,\n",
    "            messages=[\n",
    "                {\n",
    "                    \"role\": \"user\",\n",
    "                    \"content\": (\n",
    "                        \"As a business analyst, analyze the customer feedback provided in the structured review format below. \"\n",
    "                        \"Each review contains key sections, including reviewer's name, location, visit date, trip verification status, \"\n",
    "                        \"a descriptive review, experience at the airport (departure only), type of traveler, and recommendation status. \"\n",
    "                        \"Ratings for various aspects (e.g., queuing times, cleanliness, seating) are not scraped, so exclude them from analysis.\\n\\n\"\n",
    "\n",
    "                        \"Key Analysis Instructions:\"\n",
    "                        \"- Identify patterns and insights from narrative feedback and categorical data.\"\n",
    "                        \"- Identify the specific customer names and what specific issues they had.\"\n",
    "                        \"- Focus on factual interpretation without assumptions.\"\n",
    "                        \"- Use a structured response format: summary paragraph followed by key insights in bullet points.\"\n",
    "                        \"- Highlight specific examples from reviews to support insights.\"\n",
    "                        \"- Provide actionable recommendations based on trends and customer experience observations.\"\n",
    "\n",
    "                        \"Ensure your response is concise, clear, and grounded in the review data. Avoid inferences not supported by the content.\"\n",
    "                    )\n",
    "                },\n",
    "                {\"role\": \"user\", \"content\": input_text}\n",
    "            ],\n",
    "            temperature=temperature,\n",
    "            max_tokens=max_tokens\n",
    "        )\n",
    "\n",
    "        # Append the processed response\n",
    "        results.append(response.choices[0].message.content.strip())\n",
    "\n",
    "    return results  # Returns a list of responses for each batch\n"
   ]
  },
  {
   "cell_type": "code",
   "execution_count": 52,
   "metadata": {},
   "outputs": [
    {
     "ename": "AuthenticationError",
     "evalue": "Error code: 401 - {'error': {'message': 'Invalid API Key', 'type': 'invalid_request_error', 'code': 'invalid_api_key'}}",
     "output_type": "error",
     "traceback": [
      "\u001b[1;31m---------------------------------------------------------------------------\u001b[0m",
      "\u001b[1;31mAuthenticationError\u001b[0m                       Traceback (most recent call last)",
      "Cell \u001b[1;32mIn[52], line 1\u001b[0m\n\u001b[1;32m----> 1\u001b[0m response \u001b[38;5;241m=\u001b[39m \u001b[43mbatch_retrieval_qa\u001b[49m\u001b[43m(\u001b[49m\u001b[43mquestion\u001b[49m\u001b[43m,\u001b[49m\u001b[43m \u001b[49m\u001b[43mlst\u001b[49m\u001b[43m,\u001b[49m\u001b[43m \u001b[49m\u001b[43mmodel\u001b[49m\u001b[38;5;241;43m=\u001b[39;49m\u001b[38;5;124;43m\"\u001b[39;49m\u001b[38;5;124;43mllama3-8b-8192\u001b[39;49m\u001b[38;5;124;43m\"\u001b[39;49m\u001b[43m,\u001b[49m\u001b[43m \u001b[49m\u001b[43mtemperature\u001b[49m\u001b[38;5;241;43m=\u001b[39;49m\u001b[38;5;241;43m0.7\u001b[39;49m\u001b[43m,\u001b[49m\u001b[43m \u001b[49m\u001b[43mmax_tokens\u001b[49m\u001b[38;5;241;43m=\u001b[39;49m\u001b[38;5;241;43m1000\u001b[39;49m\u001b[43m)\u001b[49m\n",
      "Cell \u001b[1;32mIn[51], line 10\u001b[0m, in \u001b[0;36mbatch_retrieval_qa\u001b[1;34m(prompt, documents, model, temperature, max_tokens)\u001b[0m\n\u001b[0;32m      7\u001b[0m         batch_docs \u001b[38;5;241m=\u001b[39m documents[i:i \u001b[38;5;241m+\u001b[39m batch_size]\n\u001b[0;32m      8\u001b[0m         input_text \u001b[38;5;241m=\u001b[39m \u001b[38;5;124mf\u001b[39m\u001b[38;5;124m\"\u001b[39m\u001b[38;5;132;01m{\u001b[39;00mprompt\u001b[38;5;132;01m}\u001b[39;00m\u001b[38;5;130;01m\\n\u001b[39;00m\u001b[38;5;130;01m\\n\u001b[39;00m\u001b[38;5;124mDocuments:\u001b[39m\u001b[38;5;130;01m\\n\u001b[39;00m\u001b[38;5;124m\"\u001b[39m \u001b[38;5;241m+\u001b[39m \u001b[38;5;124m\"\u001b[39m\u001b[38;5;130;01m\\n\u001b[39;00m\u001b[38;5;124m\"\u001b[39m\u001b[38;5;241m.\u001b[39mjoin(batch_docs)\n\u001b[1;32m---> 10\u001b[0m         response \u001b[38;5;241m=\u001b[39m \u001b[43mclient\u001b[49m\u001b[38;5;241;43m.\u001b[39;49m\u001b[43mchat\u001b[49m\u001b[38;5;241;43m.\u001b[39;49m\u001b[43mcompletions\u001b[49m\u001b[38;5;241;43m.\u001b[39;49m\u001b[43mcreate\u001b[49m\u001b[43m(\u001b[49m\n\u001b[0;32m     11\u001b[0m \u001b[43m    \u001b[49m\u001b[43mmodel\u001b[49m\u001b[38;5;241;43m=\u001b[39;49m\u001b[43mmodel\u001b[49m\u001b[43m,\u001b[49m\n\u001b[0;32m     12\u001b[0m \u001b[43m    \u001b[49m\u001b[43mmessages\u001b[49m\u001b[38;5;241;43m=\u001b[39;49m\u001b[43m[\u001b[49m\n\u001b[0;32m     13\u001b[0m \u001b[43m        \u001b[49m\u001b[43m{\u001b[49m\n\u001b[0;32m     14\u001b[0m \u001b[43m            \u001b[49m\u001b[38;5;124;43m\"\u001b[39;49m\u001b[38;5;124;43mrole\u001b[39;49m\u001b[38;5;124;43m\"\u001b[39;49m\u001b[43m:\u001b[49m\u001b[43m \u001b[49m\u001b[38;5;124;43m\"\u001b[39;49m\u001b[38;5;124;43muser\u001b[39;49m\u001b[38;5;124;43m\"\u001b[39;49m\u001b[43m,\u001b[49m\n\u001b[0;32m     15\u001b[0m \u001b[43m            \u001b[49m\u001b[38;5;124;43m\"\u001b[39;49m\u001b[38;5;124;43mcontent\u001b[39;49m\u001b[38;5;124;43m\"\u001b[39;49m\u001b[43m:\u001b[49m\u001b[43m \u001b[49m\u001b[43m(\u001b[49m\n\u001b[0;32m     16\u001b[0m \u001b[43m                \u001b[49m\u001b[38;5;124;43m\"\u001b[39;49m\u001b[38;5;124;43mAs a business analyst, analyze the customer feedback provided in the structured review format below. \u001b[39;49m\u001b[38;5;124;43m\"\u001b[39;49m\n\u001b[0;32m     17\u001b[0m \u001b[43m                \u001b[49m\u001b[38;5;124;43m\"\u001b[39;49m\u001b[38;5;124;43mEach review contains key sections, including reviewer\u001b[39;49m\u001b[38;5;124;43m'\u001b[39;49m\u001b[38;5;124;43ms name, location, visit date, trip verification status, \u001b[39;49m\u001b[38;5;124;43m\"\u001b[39;49m\n\u001b[0;32m     18\u001b[0m \u001b[43m                \u001b[49m\u001b[38;5;124;43m\"\u001b[39;49m\u001b[38;5;124;43ma descriptive review, experience at the airport (departure only), type of traveler, and recommendation status. \u001b[39;49m\u001b[38;5;124;43m\"\u001b[39;49m\n\u001b[0;32m     19\u001b[0m \u001b[43m                \u001b[49m\u001b[38;5;124;43m\"\u001b[39;49m\u001b[38;5;124;43mRatings for various aspects (e.g., queuing times, cleanliness, seating) are not scraped, so exclude them from analysis.\u001b[39;49m\u001b[38;5;130;43;01m\\n\u001b[39;49;00m\u001b[38;5;130;43;01m\\n\u001b[39;49;00m\u001b[38;5;124;43m\"\u001b[39;49m\n\u001b[0;32m     20\u001b[0m \u001b[43m                \u001b[49m\n\u001b[0;32m     21\u001b[0m \u001b[43m                \u001b[49m\u001b[38;5;124;43m\"\u001b[39;49m\u001b[38;5;124;43mKey Analysis Instructions:\u001b[39;49m\u001b[38;5;124;43m\"\u001b[39;49m\n\u001b[0;32m     22\u001b[0m \u001b[43m                \u001b[49m\u001b[38;5;124;43m\"\u001b[39;49m\u001b[38;5;124;43m- Identify patterns and insights from narrative feedback and categorical data.\u001b[39;49m\u001b[38;5;124;43m\"\u001b[39;49m\n\u001b[0;32m     23\u001b[0m \u001b[43m                \u001b[49m\u001b[38;5;124;43m\"\u001b[39;49m\u001b[38;5;124;43m- Identify the specific customer names and what specific issues they had\u001b[39;49m\u001b[38;5;124;43m\"\u001b[39;49m\n\u001b[0;32m     24\u001b[0m \u001b[43m                \u001b[49m\u001b[38;5;124;43m\"\u001b[39;49m\u001b[38;5;124;43m- Focus on factual interpretation without assumptions.\u001b[39;49m\u001b[38;5;124;43m\"\u001b[39;49m\n\u001b[0;32m     25\u001b[0m \u001b[43m                \u001b[49m\u001b[38;5;124;43m\"\u001b[39;49m\u001b[38;5;124;43m- Use a structured response format: summary paragraph followed by key insights in bullet points.\u001b[39;49m\u001b[38;5;124;43m\"\u001b[39;49m\n\u001b[0;32m     26\u001b[0m \u001b[43m                \u001b[49m\u001b[38;5;124;43m\"\u001b[39;49m\u001b[38;5;124;43m- Highlight specific examples from reviews to support insights.\u001b[39;49m\u001b[38;5;124;43m\"\u001b[39;49m\n\u001b[0;32m     27\u001b[0m \u001b[43m                \u001b[49m\u001b[38;5;124;43m\"\u001b[39;49m\u001b[38;5;124;43m- Provide actionable recommendations based on trends and customer experience observations.\u001b[39;49m\u001b[38;5;124;43m\"\u001b[39;49m\n\u001b[0;32m     28\u001b[0m \u001b[43m                \u001b[49m\n\u001b[0;32m     29\u001b[0m \u001b[43m                \u001b[49m\u001b[38;5;124;43m\"\u001b[39;49m\u001b[38;5;124;43mEnsure your response is concise, clear, and grounded in the review data. Avoid inferences not supported by the content.\u001b[39;49m\u001b[38;5;124;43m\"\u001b[39;49m\n\u001b[0;32m     30\u001b[0m \u001b[43m            \u001b[49m\u001b[43m)\u001b[49m\n\u001b[0;32m     31\u001b[0m \u001b[43m        \u001b[49m\u001b[43m}\u001b[49m\u001b[43m,\u001b[49m\n\u001b[0;32m     32\u001b[0m \u001b[43m        \u001b[49m\u001b[43m{\u001b[49m\u001b[38;5;124;43m\"\u001b[39;49m\u001b[38;5;124;43mrole\u001b[39;49m\u001b[38;5;124;43m\"\u001b[39;49m\u001b[43m:\u001b[49m\u001b[43m \u001b[49m\u001b[38;5;124;43m\"\u001b[39;49m\u001b[38;5;124;43muser\u001b[39;49m\u001b[38;5;124;43m\"\u001b[39;49m\u001b[43m,\u001b[49m\u001b[43m \u001b[49m\u001b[38;5;124;43m\"\u001b[39;49m\u001b[38;5;124;43mcontent\u001b[39;49m\u001b[38;5;124;43m\"\u001b[39;49m\u001b[43m:\u001b[49m\u001b[43m \u001b[49m\u001b[43minput_text\u001b[49m\u001b[43m}\u001b[49m\n\u001b[0;32m     33\u001b[0m \u001b[43m    \u001b[49m\u001b[43m]\u001b[49m\u001b[43m,\u001b[49m\n\u001b[0;32m     34\u001b[0m \u001b[43m    \u001b[49m\u001b[43mtemperature\u001b[49m\u001b[38;5;241;43m=\u001b[39;49m\u001b[43mtemperature\u001b[49m\u001b[43m,\u001b[49m\n\u001b[0;32m     35\u001b[0m \u001b[43m    \u001b[49m\u001b[43mmax_tokens\u001b[49m\u001b[38;5;241;43m=\u001b[39;49m\u001b[43mmax_tokens\u001b[49m\n\u001b[0;32m     36\u001b[0m \u001b[43m)\u001b[49m\n\u001b[0;32m     38\u001b[0m         results\u001b[38;5;241m.\u001b[39mappend(response\u001b[38;5;241m.\u001b[39mchoices[\u001b[38;5;241m0\u001b[39m]\u001b[38;5;241m.\u001b[39mmessage\u001b[38;5;241m.\u001b[39mcontent\u001b[38;5;241m.\u001b[39mstrip())\n\u001b[0;32m     40\u001b[0m     \u001b[38;5;28;01mreturn\u001b[39;00m results\n",
      "File \u001b[1;32mc:\\Sumit_Documents\\Projects\\Airport_Analyzer\\.venv\\Lib\\site-packages\\groq\\resources\\chat\\completions.py:322\u001b[0m, in \u001b[0;36mCompletions.create\u001b[1;34m(self, messages, model, frequency_penalty, function_call, functions, logit_bias, logprobs, max_completion_tokens, max_tokens, n, parallel_tool_calls, presence_penalty, reasoning_format, response_format, seed, service_tier, stop, stream, temperature, tool_choice, tools, top_logprobs, top_p, user, extra_headers, extra_query, extra_body, timeout)\u001b[0m\n\u001b[0;32m    166\u001b[0m \u001b[38;5;28;01mdef\u001b[39;00m\u001b[38;5;250m \u001b[39m\u001b[38;5;21mcreate\u001b[39m(\n\u001b[0;32m    167\u001b[0m     \u001b[38;5;28mself\u001b[39m,\n\u001b[0;32m    168\u001b[0m     \u001b[38;5;241m*\u001b[39m,\n\u001b[1;32m   (...)\u001b[0m\n\u001b[0;32m    198\u001b[0m     timeout: \u001b[38;5;28mfloat\u001b[39m \u001b[38;5;241m|\u001b[39m httpx\u001b[38;5;241m.\u001b[39mTimeout \u001b[38;5;241m|\u001b[39m \u001b[38;5;28;01mNone\u001b[39;00m \u001b[38;5;241m|\u001b[39m NotGiven \u001b[38;5;241m=\u001b[39m NOT_GIVEN,\n\u001b[0;32m    199\u001b[0m ) \u001b[38;5;241m-\u001b[39m\u001b[38;5;241m>\u001b[39m ChatCompletion \u001b[38;5;241m|\u001b[39m Stream[ChatCompletionChunk]:\n\u001b[0;32m    200\u001b[0m \u001b[38;5;250m    \u001b[39m\u001b[38;5;124;03m\"\"\"\u001b[39;00m\n\u001b[0;32m    201\u001b[0m \u001b[38;5;124;03m    Creates a model response for the given chat conversation.\u001b[39;00m\n\u001b[0;32m    202\u001b[0m \n\u001b[1;32m   (...)\u001b[0m\n\u001b[0;32m    320\u001b[0m \u001b[38;5;124;03m      timeout: Override the client-level default timeout for this request, in seconds\u001b[39;00m\n\u001b[0;32m    321\u001b[0m \u001b[38;5;124;03m    \"\"\"\u001b[39;00m\n\u001b[1;32m--> 322\u001b[0m     \u001b[38;5;28;01mreturn\u001b[39;00m \u001b[38;5;28;43mself\u001b[39;49m\u001b[38;5;241;43m.\u001b[39;49m\u001b[43m_post\u001b[49m\u001b[43m(\u001b[49m\n\u001b[0;32m    323\u001b[0m \u001b[43m        \u001b[49m\u001b[38;5;124;43m\"\u001b[39;49m\u001b[38;5;124;43m/openai/v1/chat/completions\u001b[39;49m\u001b[38;5;124;43m\"\u001b[39;49m\u001b[43m,\u001b[49m\n\u001b[0;32m    324\u001b[0m \u001b[43m        \u001b[49m\u001b[43mbody\u001b[49m\u001b[38;5;241;43m=\u001b[39;49m\u001b[43mmaybe_transform\u001b[49m\u001b[43m(\u001b[49m\n\u001b[0;32m    325\u001b[0m \u001b[43m            \u001b[49m\u001b[43m{\u001b[49m\n\u001b[0;32m    326\u001b[0m \u001b[43m                \u001b[49m\u001b[38;5;124;43m\"\u001b[39;49m\u001b[38;5;124;43mmessages\u001b[39;49m\u001b[38;5;124;43m\"\u001b[39;49m\u001b[43m:\u001b[49m\u001b[43m \u001b[49m\u001b[43mmessages\u001b[49m\u001b[43m,\u001b[49m\n\u001b[0;32m    327\u001b[0m \u001b[43m                \u001b[49m\u001b[38;5;124;43m\"\u001b[39;49m\u001b[38;5;124;43mmodel\u001b[39;49m\u001b[38;5;124;43m\"\u001b[39;49m\u001b[43m:\u001b[49m\u001b[43m \u001b[49m\u001b[43mmodel\u001b[49m\u001b[43m,\u001b[49m\n\u001b[0;32m    328\u001b[0m \u001b[43m                \u001b[49m\u001b[38;5;124;43m\"\u001b[39;49m\u001b[38;5;124;43mfrequency_penalty\u001b[39;49m\u001b[38;5;124;43m\"\u001b[39;49m\u001b[43m:\u001b[49m\u001b[43m \u001b[49m\u001b[43mfrequency_penalty\u001b[49m\u001b[43m,\u001b[49m\n\u001b[0;32m    329\u001b[0m \u001b[43m                \u001b[49m\u001b[38;5;124;43m\"\u001b[39;49m\u001b[38;5;124;43mfunction_call\u001b[39;49m\u001b[38;5;124;43m\"\u001b[39;49m\u001b[43m:\u001b[49m\u001b[43m \u001b[49m\u001b[43mfunction_call\u001b[49m\u001b[43m,\u001b[49m\n\u001b[0;32m    330\u001b[0m \u001b[43m                \u001b[49m\u001b[38;5;124;43m\"\u001b[39;49m\u001b[38;5;124;43mfunctions\u001b[39;49m\u001b[38;5;124;43m\"\u001b[39;49m\u001b[43m:\u001b[49m\u001b[43m \u001b[49m\u001b[43mfunctions\u001b[49m\u001b[43m,\u001b[49m\n\u001b[0;32m    331\u001b[0m \u001b[43m                \u001b[49m\u001b[38;5;124;43m\"\u001b[39;49m\u001b[38;5;124;43mlogit_bias\u001b[39;49m\u001b[38;5;124;43m\"\u001b[39;49m\u001b[43m:\u001b[49m\u001b[43m \u001b[49m\u001b[43mlogit_bias\u001b[49m\u001b[43m,\u001b[49m\n\u001b[0;32m    332\u001b[0m \u001b[43m                \u001b[49m\u001b[38;5;124;43m\"\u001b[39;49m\u001b[38;5;124;43mlogprobs\u001b[39;49m\u001b[38;5;124;43m\"\u001b[39;49m\u001b[43m:\u001b[49m\u001b[43m \u001b[49m\u001b[43mlogprobs\u001b[49m\u001b[43m,\u001b[49m\n\u001b[0;32m    333\u001b[0m \u001b[43m                \u001b[49m\u001b[38;5;124;43m\"\u001b[39;49m\u001b[38;5;124;43mmax_completion_tokens\u001b[39;49m\u001b[38;5;124;43m\"\u001b[39;49m\u001b[43m:\u001b[49m\u001b[43m \u001b[49m\u001b[43mmax_completion_tokens\u001b[49m\u001b[43m,\u001b[49m\n\u001b[0;32m    334\u001b[0m \u001b[43m                \u001b[49m\u001b[38;5;124;43m\"\u001b[39;49m\u001b[38;5;124;43mmax_tokens\u001b[39;49m\u001b[38;5;124;43m\"\u001b[39;49m\u001b[43m:\u001b[49m\u001b[43m \u001b[49m\u001b[43mmax_tokens\u001b[49m\u001b[43m,\u001b[49m\n\u001b[0;32m    335\u001b[0m \u001b[43m                \u001b[49m\u001b[38;5;124;43m\"\u001b[39;49m\u001b[38;5;124;43mn\u001b[39;49m\u001b[38;5;124;43m\"\u001b[39;49m\u001b[43m:\u001b[49m\u001b[43m \u001b[49m\u001b[43mn\u001b[49m\u001b[43m,\u001b[49m\n\u001b[0;32m    336\u001b[0m \u001b[43m                \u001b[49m\u001b[38;5;124;43m\"\u001b[39;49m\u001b[38;5;124;43mparallel_tool_calls\u001b[39;49m\u001b[38;5;124;43m\"\u001b[39;49m\u001b[43m:\u001b[49m\u001b[43m \u001b[49m\u001b[43mparallel_tool_calls\u001b[49m\u001b[43m,\u001b[49m\n\u001b[0;32m    337\u001b[0m \u001b[43m                \u001b[49m\u001b[38;5;124;43m\"\u001b[39;49m\u001b[38;5;124;43mpresence_penalty\u001b[39;49m\u001b[38;5;124;43m\"\u001b[39;49m\u001b[43m:\u001b[49m\u001b[43m \u001b[49m\u001b[43mpresence_penalty\u001b[49m\u001b[43m,\u001b[49m\n\u001b[0;32m    338\u001b[0m \u001b[43m                \u001b[49m\u001b[38;5;124;43m\"\u001b[39;49m\u001b[38;5;124;43mreasoning_format\u001b[39;49m\u001b[38;5;124;43m\"\u001b[39;49m\u001b[43m:\u001b[49m\u001b[43m \u001b[49m\u001b[43mreasoning_format\u001b[49m\u001b[43m,\u001b[49m\n\u001b[0;32m    339\u001b[0m \u001b[43m                \u001b[49m\u001b[38;5;124;43m\"\u001b[39;49m\u001b[38;5;124;43mresponse_format\u001b[39;49m\u001b[38;5;124;43m\"\u001b[39;49m\u001b[43m:\u001b[49m\u001b[43m \u001b[49m\u001b[43mresponse_format\u001b[49m\u001b[43m,\u001b[49m\n\u001b[0;32m    340\u001b[0m \u001b[43m                \u001b[49m\u001b[38;5;124;43m\"\u001b[39;49m\u001b[38;5;124;43mseed\u001b[39;49m\u001b[38;5;124;43m\"\u001b[39;49m\u001b[43m:\u001b[49m\u001b[43m \u001b[49m\u001b[43mseed\u001b[49m\u001b[43m,\u001b[49m\n\u001b[0;32m    341\u001b[0m \u001b[43m                \u001b[49m\u001b[38;5;124;43m\"\u001b[39;49m\u001b[38;5;124;43mservice_tier\u001b[39;49m\u001b[38;5;124;43m\"\u001b[39;49m\u001b[43m:\u001b[49m\u001b[43m \u001b[49m\u001b[43mservice_tier\u001b[49m\u001b[43m,\u001b[49m\n\u001b[0;32m    342\u001b[0m \u001b[43m                \u001b[49m\u001b[38;5;124;43m\"\u001b[39;49m\u001b[38;5;124;43mstop\u001b[39;49m\u001b[38;5;124;43m\"\u001b[39;49m\u001b[43m:\u001b[49m\u001b[43m \u001b[49m\u001b[43mstop\u001b[49m\u001b[43m,\u001b[49m\n\u001b[0;32m    343\u001b[0m \u001b[43m                \u001b[49m\u001b[38;5;124;43m\"\u001b[39;49m\u001b[38;5;124;43mstream\u001b[39;49m\u001b[38;5;124;43m\"\u001b[39;49m\u001b[43m:\u001b[49m\u001b[43m \u001b[49m\u001b[43mstream\u001b[49m\u001b[43m,\u001b[49m\n\u001b[0;32m    344\u001b[0m \u001b[43m                \u001b[49m\u001b[38;5;124;43m\"\u001b[39;49m\u001b[38;5;124;43mtemperature\u001b[39;49m\u001b[38;5;124;43m\"\u001b[39;49m\u001b[43m:\u001b[49m\u001b[43m \u001b[49m\u001b[43mtemperature\u001b[49m\u001b[43m,\u001b[49m\n\u001b[0;32m    345\u001b[0m \u001b[43m                \u001b[49m\u001b[38;5;124;43m\"\u001b[39;49m\u001b[38;5;124;43mtool_choice\u001b[39;49m\u001b[38;5;124;43m\"\u001b[39;49m\u001b[43m:\u001b[49m\u001b[43m \u001b[49m\u001b[43mtool_choice\u001b[49m\u001b[43m,\u001b[49m\n\u001b[0;32m    346\u001b[0m \u001b[43m                \u001b[49m\u001b[38;5;124;43m\"\u001b[39;49m\u001b[38;5;124;43mtools\u001b[39;49m\u001b[38;5;124;43m\"\u001b[39;49m\u001b[43m:\u001b[49m\u001b[43m \u001b[49m\u001b[43mtools\u001b[49m\u001b[43m,\u001b[49m\n\u001b[0;32m    347\u001b[0m \u001b[43m                \u001b[49m\u001b[38;5;124;43m\"\u001b[39;49m\u001b[38;5;124;43mtop_logprobs\u001b[39;49m\u001b[38;5;124;43m\"\u001b[39;49m\u001b[43m:\u001b[49m\u001b[43m \u001b[49m\u001b[43mtop_logprobs\u001b[49m\u001b[43m,\u001b[49m\n\u001b[0;32m    348\u001b[0m \u001b[43m                \u001b[49m\u001b[38;5;124;43m\"\u001b[39;49m\u001b[38;5;124;43mtop_p\u001b[39;49m\u001b[38;5;124;43m\"\u001b[39;49m\u001b[43m:\u001b[49m\u001b[43m \u001b[49m\u001b[43mtop_p\u001b[49m\u001b[43m,\u001b[49m\n\u001b[0;32m    349\u001b[0m \u001b[43m                \u001b[49m\u001b[38;5;124;43m\"\u001b[39;49m\u001b[38;5;124;43muser\u001b[39;49m\u001b[38;5;124;43m\"\u001b[39;49m\u001b[43m:\u001b[49m\u001b[43m \u001b[49m\u001b[43muser\u001b[49m\u001b[43m,\u001b[49m\n\u001b[0;32m    350\u001b[0m \u001b[43m            \u001b[49m\u001b[43m}\u001b[49m\u001b[43m,\u001b[49m\n\u001b[0;32m    351\u001b[0m \u001b[43m            \u001b[49m\u001b[43mcompletion_create_params\u001b[49m\u001b[38;5;241;43m.\u001b[39;49m\u001b[43mCompletionCreateParams\u001b[49m\u001b[43m,\u001b[49m\n\u001b[0;32m    352\u001b[0m \u001b[43m        \u001b[49m\u001b[43m)\u001b[49m\u001b[43m,\u001b[49m\n\u001b[0;32m    353\u001b[0m \u001b[43m        \u001b[49m\u001b[43moptions\u001b[49m\u001b[38;5;241;43m=\u001b[39;49m\u001b[43mmake_request_options\u001b[49m\u001b[43m(\u001b[49m\n\u001b[0;32m    354\u001b[0m \u001b[43m            \u001b[49m\u001b[43mextra_headers\u001b[49m\u001b[38;5;241;43m=\u001b[39;49m\u001b[43mextra_headers\u001b[49m\u001b[43m,\u001b[49m\u001b[43m \u001b[49m\u001b[43mextra_query\u001b[49m\u001b[38;5;241;43m=\u001b[39;49m\u001b[43mextra_query\u001b[49m\u001b[43m,\u001b[49m\u001b[43m \u001b[49m\u001b[43mextra_body\u001b[49m\u001b[38;5;241;43m=\u001b[39;49m\u001b[43mextra_body\u001b[49m\u001b[43m,\u001b[49m\u001b[43m \u001b[49m\u001b[43mtimeout\u001b[49m\u001b[38;5;241;43m=\u001b[39;49m\u001b[43mtimeout\u001b[49m\n\u001b[0;32m    355\u001b[0m \u001b[43m        \u001b[49m\u001b[43m)\u001b[49m\u001b[43m,\u001b[49m\n\u001b[0;32m    356\u001b[0m \u001b[43m        \u001b[49m\u001b[43mcast_to\u001b[49m\u001b[38;5;241;43m=\u001b[39;49m\u001b[43mChatCompletion\u001b[49m\u001b[43m,\u001b[49m\n\u001b[0;32m    357\u001b[0m \u001b[43m        \u001b[49m\u001b[43mstream\u001b[49m\u001b[38;5;241;43m=\u001b[39;49m\u001b[43mstream\u001b[49m\u001b[43m \u001b[49m\u001b[38;5;129;43;01mor\u001b[39;49;00m\u001b[43m \u001b[49m\u001b[38;5;28;43;01mFalse\u001b[39;49;00m\u001b[43m,\u001b[49m\n\u001b[0;32m    358\u001b[0m \u001b[43m        \u001b[49m\u001b[43mstream_cls\u001b[49m\u001b[38;5;241;43m=\u001b[39;49m\u001b[43mStream\u001b[49m\u001b[43m[\u001b[49m\u001b[43mChatCompletionChunk\u001b[49m\u001b[43m]\u001b[49m\u001b[43m,\u001b[49m\n\u001b[0;32m    359\u001b[0m \u001b[43m    \u001b[49m\u001b[43m)\u001b[49m\n",
      "File \u001b[1;32mc:\\Sumit_Documents\\Projects\\Airport_Analyzer\\.venv\\Lib\\site-packages\\groq\\_base_client.py:1266\u001b[0m, in \u001b[0;36mSyncAPIClient.post\u001b[1;34m(self, path, cast_to, body, options, files, stream, stream_cls)\u001b[0m\n\u001b[0;32m   1252\u001b[0m \u001b[38;5;28;01mdef\u001b[39;00m\u001b[38;5;250m \u001b[39m\u001b[38;5;21mpost\u001b[39m(\n\u001b[0;32m   1253\u001b[0m     \u001b[38;5;28mself\u001b[39m,\n\u001b[0;32m   1254\u001b[0m     path: \u001b[38;5;28mstr\u001b[39m,\n\u001b[1;32m   (...)\u001b[0m\n\u001b[0;32m   1261\u001b[0m     stream_cls: \u001b[38;5;28mtype\u001b[39m[_StreamT] \u001b[38;5;241m|\u001b[39m \u001b[38;5;28;01mNone\u001b[39;00m \u001b[38;5;241m=\u001b[39m \u001b[38;5;28;01mNone\u001b[39;00m,\n\u001b[0;32m   1262\u001b[0m ) \u001b[38;5;241m-\u001b[39m\u001b[38;5;241m>\u001b[39m ResponseT \u001b[38;5;241m|\u001b[39m _StreamT:\n\u001b[0;32m   1263\u001b[0m     opts \u001b[38;5;241m=\u001b[39m FinalRequestOptions\u001b[38;5;241m.\u001b[39mconstruct(\n\u001b[0;32m   1264\u001b[0m         method\u001b[38;5;241m=\u001b[39m\u001b[38;5;124m\"\u001b[39m\u001b[38;5;124mpost\u001b[39m\u001b[38;5;124m\"\u001b[39m, url\u001b[38;5;241m=\u001b[39mpath, json_data\u001b[38;5;241m=\u001b[39mbody, files\u001b[38;5;241m=\u001b[39mto_httpx_files(files), \u001b[38;5;241m*\u001b[39m\u001b[38;5;241m*\u001b[39moptions\n\u001b[0;32m   1265\u001b[0m     )\n\u001b[1;32m-> 1266\u001b[0m     \u001b[38;5;28;01mreturn\u001b[39;00m cast(ResponseT, \u001b[38;5;28;43mself\u001b[39;49m\u001b[38;5;241;43m.\u001b[39;49m\u001b[43mrequest\u001b[49m\u001b[43m(\u001b[49m\u001b[43mcast_to\u001b[49m\u001b[43m,\u001b[49m\u001b[43m \u001b[49m\u001b[43mopts\u001b[49m\u001b[43m,\u001b[49m\u001b[43m \u001b[49m\u001b[43mstream\u001b[49m\u001b[38;5;241;43m=\u001b[39;49m\u001b[43mstream\u001b[49m\u001b[43m,\u001b[49m\u001b[43m \u001b[49m\u001b[43mstream_cls\u001b[49m\u001b[38;5;241;43m=\u001b[39;49m\u001b[43mstream_cls\u001b[49m\u001b[43m)\u001b[49m)\n",
      "File \u001b[1;32mc:\\Sumit_Documents\\Projects\\Airport_Analyzer\\.venv\\Lib\\site-packages\\groq\\_base_client.py:958\u001b[0m, in \u001b[0;36mSyncAPIClient.request\u001b[1;34m(self, cast_to, options, remaining_retries, stream, stream_cls)\u001b[0m\n\u001b[0;32m    955\u001b[0m \u001b[38;5;28;01melse\u001b[39;00m:\n\u001b[0;32m    956\u001b[0m     retries_taken \u001b[38;5;241m=\u001b[39m \u001b[38;5;241m0\u001b[39m\n\u001b[1;32m--> 958\u001b[0m \u001b[38;5;28;01mreturn\u001b[39;00m \u001b[38;5;28;43mself\u001b[39;49m\u001b[38;5;241;43m.\u001b[39;49m\u001b[43m_request\u001b[49m\u001b[43m(\u001b[49m\n\u001b[0;32m    959\u001b[0m \u001b[43m    \u001b[49m\u001b[43mcast_to\u001b[49m\u001b[38;5;241;43m=\u001b[39;49m\u001b[43mcast_to\u001b[49m\u001b[43m,\u001b[49m\n\u001b[0;32m    960\u001b[0m \u001b[43m    \u001b[49m\u001b[43moptions\u001b[49m\u001b[38;5;241;43m=\u001b[39;49m\u001b[43moptions\u001b[49m\u001b[43m,\u001b[49m\n\u001b[0;32m    961\u001b[0m \u001b[43m    \u001b[49m\u001b[43mstream\u001b[49m\u001b[38;5;241;43m=\u001b[39;49m\u001b[43mstream\u001b[49m\u001b[43m,\u001b[49m\n\u001b[0;32m    962\u001b[0m \u001b[43m    \u001b[49m\u001b[43mstream_cls\u001b[49m\u001b[38;5;241;43m=\u001b[39;49m\u001b[43mstream_cls\u001b[49m\u001b[43m,\u001b[49m\n\u001b[0;32m    963\u001b[0m \u001b[43m    \u001b[49m\u001b[43mretries_taken\u001b[49m\u001b[38;5;241;43m=\u001b[39;49m\u001b[43mretries_taken\u001b[49m\u001b[43m,\u001b[49m\n\u001b[0;32m    964\u001b[0m \u001b[43m\u001b[49m\u001b[43m)\u001b[49m\n",
      "File \u001b[1;32mc:\\Sumit_Documents\\Projects\\Airport_Analyzer\\.venv\\Lib\\site-packages\\groq\\_base_client.py:1061\u001b[0m, in \u001b[0;36mSyncAPIClient._request\u001b[1;34m(self, cast_to, options, retries_taken, stream, stream_cls)\u001b[0m\n\u001b[0;32m   1058\u001b[0m         err\u001b[38;5;241m.\u001b[39mresponse\u001b[38;5;241m.\u001b[39mread()\n\u001b[0;32m   1060\u001b[0m     log\u001b[38;5;241m.\u001b[39mdebug(\u001b[38;5;124m\"\u001b[39m\u001b[38;5;124mRe-raising status error\u001b[39m\u001b[38;5;124m\"\u001b[39m)\n\u001b[1;32m-> 1061\u001b[0m     \u001b[38;5;28;01mraise\u001b[39;00m \u001b[38;5;28mself\u001b[39m\u001b[38;5;241m.\u001b[39m_make_status_error_from_response(err\u001b[38;5;241m.\u001b[39mresponse) \u001b[38;5;28;01mfrom\u001b[39;00m\u001b[38;5;250m \u001b[39m\u001b[38;5;28;01mNone\u001b[39;00m\n\u001b[0;32m   1063\u001b[0m \u001b[38;5;28;01mreturn\u001b[39;00m \u001b[38;5;28mself\u001b[39m\u001b[38;5;241m.\u001b[39m_process_response(\n\u001b[0;32m   1064\u001b[0m     cast_to\u001b[38;5;241m=\u001b[39mcast_to,\n\u001b[0;32m   1065\u001b[0m     options\u001b[38;5;241m=\u001b[39moptions,\n\u001b[1;32m   (...)\u001b[0m\n\u001b[0;32m   1069\u001b[0m     retries_taken\u001b[38;5;241m=\u001b[39mretries_taken,\n\u001b[0;32m   1070\u001b[0m )\n",
      "\u001b[1;31mAuthenticationError\u001b[0m: Error code: 401 - {'error': {'message': 'Invalid API Key', 'type': 'invalid_request_error', 'code': 'invalid_api_key'}}"
     ]
    }
   ],
   "source": [
    "response = batch_retrieval_qa(question, lst, model=\"llama3-8b-8192\", temperature=0.7, max_tokens=1000)"
   ]
  },
  {
   "cell_type": "code",
   "execution_count": 21,
   "metadata": {},
   "outputs": [
    {
     "data": {
      "text/plain": [
       "['**Summary**\\n\\nThe customer feedback analysis reveals that Qatar Airways\\' customers are unhappy with the airline\\'s customer service, particularly when dealing with issues or requesting changes to their flights. The reviews highlight instances of unhelpfulness, arrogance, and a lack of flexibility from the airline\\'s customer service team. Additionally, some customers express disappointment with the food and beverage service, citing limited options and poor quality.\\n\\n**Key Insights**\\n\\n* Customers are frustrated with Qatar Airways\\' customer service, describing it as \"unhelpful\" and \"obstructive\".\\n* The airline\\'s lack of flexibility and willingness to accommodate customer needs is a major concern.\\n* Food and beverage service is a significant issue, with customers reporting limited options, poor quality, and inconsistent service.\\n* The reviews suggest that Qatar Airways\\' customer service team can be unresponsive and unapologetic when issues arise.\\n\\n**Specific Examples**\\n\\n* Tilly Hoskins\\' review highlights the airline\\'s refusal to accommodate a customer\\'s request for a 2-hour stopover, despite medical reasons and willingness to pay the same price.\\n* G Aliyev\\'s review describes a poor business-class experience, including limited meal options, poor quality food, and unhelpful cabin crew.\\n* David Sims\\' review expresses disappointment with the food and beverage service, citing inconsistent service and limited options.\\n\\n**Actionable Recommendations**\\n\\n* Improve customer service training to ensure that staff are empowered to accommodate customer needs and requests.\\n* Review and update food and beverage options to better meet customer expectations.\\n* Increase flexibility in scheduling and accommodate customers\\' requests for changes, especially in cases where medical reasons are involved.\\n* Implement a more effective communication strategy to ensure that customers are informed of any changes or issues affecting their flights.',\n",
       " 'Summary:\\nThe customer feedback highlights two major issues with Qatar Airways: the airport experience, particularly the handling of delayed flights, and the quality of service at the Calicut check-in counter. The reviews suggest that the airport experience can be frustrating, with passengers feeling confused and disorganized. The check-in process at Calicut Airport was slow, and customers experienced long wait times. On the other hand, the in-flight experience was generally positive, with customers praising the quality of food, staff service, and entertainment.\\n\\nKey Insights:\\n\\n* The airport experience can be improved:\\n\\t+ The handling of delayed flights needs to be more organized and efficient.\\n\\t+ Passengers need clear guidance and support to ensure they can rebook their flights or find alternative arrangements.\\n* The check-in process at Calicut Airport needs improvement:\\n\\t+ The process was slow, causing long wait times for customers.\\n\\t+ Staff were not adequately prepared to handle the volume of passengers.\\n* The in-flight experience is generally positive:\\n\\t+ Customers praised the quality of food, staff service, and entertainment.\\n\\t+ The QSuite on the Boeing 777-300ER was a highlight for one customer.\\n* Qatar Airways needs to improve its partnership with other airlines:\\n\\t+ Customers were dissatisfied with their experience on Malaysia Airlines, which was operated by Qatar Airways.\\n\\t+ The airline should consider operating its own daily flights instead of relying on partners.\\n\\nSpecific Examples:\\n\\n* The reviewer who missed their connection flight in Doha reported feeling frustrated and confused, with staff seemingly unable to provide clear guidance or support.\\n* The reviewer who checked in at Calicut Airport reported a slow process, which caused long wait times and frustration.\\n\\nActionable Recommendations:\\n\\n* Improve the airport experience by providing clearer guidance and support for passengers dealing with delayed flights.\\n* Train staff to handle high volumes of passengers more efficiently, particularly at peak times.\\n* Address the slow check-in process at Calicut Airport by increasing staff or implementing additional check-in lanes.\\n* Consider operating daily flights instead of relying on partners, particularly for popular routes.\\n* Provide clearer information to customers about their options and arrangements, particularly when dealing with delays or cancellations.',\n",
       " \"Summary:\\nThe customer feedback provided highlights several issues with Qatar Airways, particularly with regards to check-in and boarding processes. The reviews suggest that passengers experienced chaotic check-in at Kathmandu airport, long wait times at the service desk, and difficulties in obtaining boarding passes.\\n\\nKey Insights:\\n\\n* Check-in and boarding processes can be chaotic and time-consuming, leading to frustration and delays.\\n* Older aircraft may not have the same level of entertainment options or amenities as newer planes.\\n* Cabin crew may not always be friendly, and service may be slow to start.\\n* Food and beverage options may not be as good as expected, and refills may not be available.\\n* Airport shops may not be accessible to passengers without a boarding pass.\\n* Communication with customers may be lacking, as some passengers have reported not receiving feedback after sending emails to customer service.\\n\\nSpecific Examples:\\n\\n* Review 43 highlights the chaotic check-in process at Kathmandu airport, which led to a delayed departure due to local air traffic restrictions.\\n* Review 24 mentions that the flight attendants were not particularly friendly, and service did not start until 1.5 hours after takeoff.\\n* Review 37 describes the difficulties in obtaining a boarding pass at the service desk, which led to a 3-hour wait and a rushed arrival at the gate.\\n\\nActionable Recommendations:\\n\\n* Improve check-in and boarding processes to reduce wait times and minimize delays.\\n* Consider upgrading older aircraft to provide a better passenger experience.\\n* Train cabin crew to be more friendly and attentive to passengers' needs.\\n* Improve food and beverage options and ensure that refills are available.\\n* Ensure that airport shops are accessible to passengers without a boarding pass.\\n* Improve communication with customers by responding promptly to their emails and concerns.\",\n",
       " 'Summary:\\nThe majority of the customer feedback provided is overwhelmingly positive, with customers praising the excellent service, comfort, and quality of food and drinks offered by Qatar Airways. The cabin crew is consistently mentioned as being warm, friendly, and attentive, with some customers even mentioning specific crew members who went above and beyond to ensure their satisfaction.\\n\\nKey Insights:\\n\\n* Customers appreciate the priority given to business class passengers, with some mentioning that it felt like they were treated like royalty.\\n* The Qsuites business class is widely praised for its comfort and quality, with some customers even mentioning that they were able to catch up on sleep during the flight.\\n* The food and drinks offered on board are consistently praised for their quality and variety, with some customers mentioning that they were able to try new and exotic dishes.\\n* Customers appreciate the attentive and professional service provided by the cabin crew, with some mentioning that they felt like they were part of a well-oiled machine.\\n* Some customers mention that the price of the flight was higher than other airlines, but feel that it was worth it for the exceptional service and quality offered.\\n\\nSpecific Examples:\\n\\n* Tai Wei Wong mentions that the cabin crew \"worked tirelessly\" to serve every request, and that the lobster meal was \"very good\".\\n* Rajan Parrikar mentions that the onboard service was \"warm and attentive\", and that the experience was \"supremely comfortable\".\\n* Theona Knight mentions that the cabin crew was \"warm and friendly\", and that they engaged in conversation with her about her trip as if they were genuinely interested.\\n\\nActionable Recommendations:\\n\\n* Qatar Airways should continue to focus on providing exceptional service and quality to its customers, as it is a key factor in its success.\\n* The airline should also consider offering more competitive pricing options to attract more customers, while still maintaining its high standards of quality and service.\\n* The cabin crew should continue to be trained on providing attentive and professional service to all customers, and should be encouraged to go above and beyond to ensure customer satisfaction.',\n",
       " 'Summary:\\nThe customer feedback from these reviews highlights the exceptional service provided by Qatar Airways, with multiple reviewers mentioning the kindness and attentiveness of the cabin staff. However, some reviewers did mention minor issues, such as limited in-flight entertainment options and the use of Oman Air planes and crew on certain sectors.\\n\\nKey Insights:\\n\\n* Exceptional service is a key strength for Qatar Airways, with multiple reviewers praising the kindness and attentiveness of the cabin staff.\\n* The business class layout and seat comfort were generally considered okay, with one reviewer mentioning that the seat was very comfortable.\\n* Food and wine were good, but not exceptional, with one reviewer mentioning that it was \"nothing more, nothing less\".\\n* Limited in-flight entertainment options were mentioned by one reviewer, who found the selection of movies to be limited.\\n* The use of Oman Air planes and crew on certain sectors may cause some changes to the original flight plan, which may affect customer expectations.\\n* Ground service and value for money were not specifically mentioned as issues, but overall, customers were satisfied with their experience.\\n\\nSpecific Examples:\\n\\n* Lucette Nyberg mentions that she never felt discriminated against due to her weight, which suggests that Qatar Airways may be making an effort to provide inclusive service.\\n* Virginia Bolton mentions that the crew were very pleasant and enjoyed a chat, which highlights the friendly and approachable nature of the cabin staff.\\n\\nActionable Recommendations:\\n\\n* Qatar Airways should continue to focus on providing exceptional service to maintain its reputation and customer loyalty.\\n* The airline should consider expanding its in-flight entertainment options to cater to a wider range of customer preferences.\\n* Clear communication with customers about changes to the flight plan or aircraft used would help to manage expectations and reduce potential issues.\\n* The airline should continue to monitor and improve its business class seating and layout to ensure a comfortable experience for customers.',\n",
       " \"**Summary**\\n\\nQatar Airways customers have shared positive experiences with the airline, praising its customer experience, value for money, and safety. However, some customers have expressed frustration with certain aspects of their flights. The most common issues mentioned are related to food quality, aircraft configuration, and service.\\n\\n**Key Insights**\\n\\n* **Food quality**: Some customers have mentioned that the food options were too bland or salty, which can be a significant issue for travelers, especially on long-haul flights.\\n* **Aircraft configuration**: The downgrade of a business class passenger from a Q-suite to an older 777 configuration, with no privacy or divider, was seen as a significant disappointment and a breach of service standards.\\n* **Service**: Slow service and a lack of flexibility in accommodating passengers' requests were mentioned as drawbacks.\\n* **Value for money**: While customers generally perceive Qatar Airways as providing good value for money, some have expressed disappointment with the quality of service and aircraft configuration.\\n\\n**Specific Examples**\\n\\n* Kevin Kozinchik's experience with being downgraded from a Q-suite to an older 777 configuration highlights the importance of transparency and flexibility in managing aircraft changes.\\n* Harish Vasudevan's experience with the food options on his flight shows that even in economy class, passengers expect a certain level of quality and variety in their meals.\\n\\n**Actionable Recommendations**\\n\\n* Qatar Airways should prioritize improving food quality and offering more diverse and appealing options, especially on long-haul flights.\\n* The airline should ensure that passengers are informed promptly and transparently about any changes to their flight itinerary, including aircraft configuration.\\n* Qatar Airways should focus on providing better service and being more flexible in accommodating passengers' requests, particularly in business class.\\n* The airline should continue to invest in upgrading its aircraft fleet and ensuring that all planes meet a consistent standard of comfort and quality.\",\n",
       " 'Summary:\\n\\nThe customer feedback on Qatar Airways focuses on the mixed experience of the airline. While some customers praise the excellent onboard service and polite staff, others have issues with the booking and check-in process, seat comfort, and food quality.\\n\\nKey Insights:\\n\\n* The booking and check-in process can be frustrating, with difficulties in accessing seat maps and requiring manual document checks at the airport.\\n* The quality of the phone line for the call centre can be poor.\\n* Some customers find the queues for self-service check-in machines at the airport to be long.\\n* Seat comfort is a concern, with one customer describing the seats as \"not comfortable\".\\n* Food quality is a mixed bag, with one customer praising the \"plenty of food provided\" and another saying their food \"did not taste good\".\\n* Cabin staff service can vary, with one customer experiencing a \"distant, even contemptuous attitude\" from the flight attendants.\\n* The airline\\'s recognition of loyalty program members is a concern, with one customer not being recognized as an emerald platinum member.\\n\\nSpecific Examples:\\n\\n* S Deylan\\'s experience with booking and check-in highlights the difficulties in accessing seat maps and the need to ring up the call centre to request specific seats.\\n* S Gale\\'s review mentions the unfriendly staff at check-in and the uncomfortable seats.\\n* Philippe Gimenez\\'s review is particularly critical, highlighting the lack of recognition as a loyalty program member, poor food quality, and cold cabin temperature.\\n\\nActionable Recommendations:\\n\\n* Qatar Airways should improve the booking and check-in process to reduce frustration and make it easier for customers to access seat maps and request specific seats.\\n* The airline should address the issues with the call centre phone line to ensure a better customer experience.\\n* Qatar Airways should increase the number of staff at check-in and self-service check-in machines to reduce queues and improve efficiency.\\n* The airline should focus on improving food quality and variety to meet the diverse tastes and preferences of its customers.\\n* Qatar Airways should prioritize providing a warm and welcoming experience for its loyalty program members, recognizing their loyalty and rewarding their repeat business.',\n",
       " \"Based on the customer feedback provided, it appears that Qatar Airways generally receives positive reviews for its services. However, there are some specific issues that customers find annoying.\\n\\nSummary:\\nWhile Qatar Airways is praised for its modern aircraft, comfortable seating, and exceptional cabin crew service, some customers have experienced issues with check-in queues, baggage handling, and food options.\\n\\nKey Insights:\\n\\n* Check-in queues: V Hargan (Review 46) experienced a long check-in queue, with some open counters being left unattended, leading to frustration and inconvenience.\\n* Baggage handling: The same reviewer (V Hargan) had to leave the queue to adjust the weight of their baggage, only to be asked to start from the end of the line again upon returning.\\n* Food options: V Hargan was not satisfied with the Indian vegetarian meal option onboard, which they did not enjoy.\\n* Ground service: Willy Fischer (Review 21) mentioned that the bus transportation from Doha airport to their connecting flight was uncomfortable.\\n\\nSpecific examples:\\n\\n* Review 46: V Hargan's experience with the check-in queue and baggage handling issues highlights the importance of efficient and customer-friendly check-in processes.\\n* Review 21: Willy Fischer's positive feedback on the cabin crew service and food options onboard Qatar Airways emphasizes the importance of providing a high-quality in-flight experience.\\n\\nActionable Recommendations:\\n\\n* Improve check-in queue management: Provide adequate staffing and technology to minimize wait times and ensure a smooth check-in process.\\n* Enhance baggage handling: Implement a more efficient baggage handling system to reduce delays and inconvenience for passengers.\\n* Expand food options: Offer a more diverse range of food options, including vegetarian and special dietary requirements, to cater to different passenger preferences.\\n* Review ground service: Consider improving the ground transportation options, such as providing more comfortable buses or alternative transportation methods, to enhance the overall passenger experience.\",\n",
       " 'Based on the provided customer feedback, there is no specific mention of what customers find most annoying about Qatar Airways. The review provided is a positive one, highlighting the noticeable upgrade in meal quality, comfortable seats, and flawless inflight service.\\n\\nHowever, if we were to analyze the feedback for potential pain points or areas for improvement, we could identify some key insights:\\n\\n* None of the reviews mention any specific issues or annoyances about Qatar Airways.\\n* The review highlights the positive aspects of the flight, such as the comfortable seats, good meal quality, and excellent cabin staff service.\\n* The reviewer did not mention any issues with queuing times, cleanliness, seating, or other aspects that are often mentioned in customer feedback.\\n\\nActionable recommendation:\\n\\n* Continue to focus on maintaining the high standards of meal quality, comfortable seating, and excellent cabin staff service to ensure a positive passenger experience.\\n* Consider soliciting feedback from customers on specific aspects of the flight, such as queuing times, cleanliness, and seating, to identify potential areas for improvement.']"
      ]
     },
     "execution_count": 21,
     "metadata": {},
     "output_type": "execute_result"
    }
   ],
   "source": [
    "response"
   ]
  },
  {
   "cell_type": "code",
   "execution_count": null,
   "metadata": {},
   "outputs": [],
   "source": []
  }
 ],
 "metadata": {
  "kernelspec": {
   "display_name": ".venv",
   "language": "python",
   "name": "python3"
  },
  "language_info": {
   "codemirror_mode": {
    "name": "ipython",
    "version": 3
   },
   "file_extension": ".py",
   "mimetype": "text/x-python",
   "name": "python",
   "nbconvert_exporter": "python",
   "pygments_lexer": "ipython3",
   "version": "3.12.2"
  }
 },
 "nbformat": 4,
 "nbformat_minor": 2
}
